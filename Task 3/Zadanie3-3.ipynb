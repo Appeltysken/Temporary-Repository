{
 "cells": [
  {
   "cell_type": "code",
   "execution_count": 22,
   "id": "7c9895ee-cb5b-47f5-8589-fac8104e5f24",
   "metadata": {},
   "outputs": [
    {
     "name": "stdout",
     "output_type": "stream",
     "text": [
      "Введите слово :  2231\n"
     ]
    },
    {
     "name": "stdout",
     "output_type": "stream",
     "text": [
      "{'2': 2, '3': 1, '1': 1}\n"
     ]
    }
   ],
   "source": [
    "# Task 1\n",
    "\n",
    "word, out_dict = list(input(\"Введите слово : \")), dict()\n",
    "for i in word:\n",
    "    out_dict[i] = word.count(i)\n",
    "print(out_dict)\n"
   ]
  },
  {
   "cell_type": "code",
   "execution_count": 33,
   "id": "c9503014-872d-4c43-8ca2-a54cc6988c2b",
   "metadata": {},
   "outputs": [
    {
     "name": "stdout",
     "output_type": "stream",
     "text": [
      "Введите числа через пробел:  1 1 2 5 2 6 23 3 6\n"
     ]
    },
    {
     "name": "stdout",
     "output_type": "stream",
     "text": [
      "Исходное множество: [1, 1, 2, 5, 2, 6, 23, 3, 6]\n",
      "Множество без дубликатов: {1, 2, 3, 5, 6, 23}\n"
     ]
    }
   ],
   "source": [
    "# Task 2\n",
    "\n",
    "string, out_set = input(\"Введите числа через пробел: \").split(\" \"), set()\n",
    "string = list(map(int, string))\n",
    "print(f\"Исходное множество: {string}\")\n",
    "\n",
    "[out_set.add(i) for i in string]\n",
    "print(f\"Множество без дубликатов: {out_set}\")"
   ]
  },
  {
   "cell_type": "code",
   "execution_count": 60,
   "id": "9573dccb-4f2e-45da-a53e-565e552621c3",
   "metadata": {},
   "outputs": [
    {
     "name": "stdout",
     "output_type": "stream",
     "text": [
      "Сегодня 27 августа 2024, время: 14:11:13 МСК\n"
     ]
    }
   ],
   "source": [
    "# Task 3\n",
    "import datetime\n",
    "now_time, month_dict = datetime.datetime.today(), {1: \"января\", 2: \"февраля\", 3: \"марта\", 4: \"апреля\", 5: \"мая\", 6: \"июня\", 7: \"июля\",\n",
    "                                                  8: \"августа\", 9: \"сентрября\", 10: \"октября\", 11: \"ноября\", 12: \"декабря\"}\n",
    "print(f\"Сегодня {now_time.day} {month_dict[now_time.month]} {now_time.year}, время: {now_time.hour}:{now_time.minute}:{now_time.second} МСК\")"
   ]
  },
  {
   "cell_type": "code",
   "execution_count": null,
   "id": "92d777f1-ac5c-4785-9590-7b8cf1e62e4b",
   "metadata": {},
   "outputs": [],
   "source": [
    "!pip install pillow"
   ]
  },
  {
   "cell_type": "code",
   "execution_count": 98,
   "id": "7d886b66-1356-48e0-93b6-0c57ff133a71",
   "metadata": {},
   "outputs": [
    {
     "name": "stdout",
     "output_type": "stream",
     "text": [
      "Введите путь до вашего файла:  Vault.jpg\n"
     ]
    },
    {
     "name": "stdout",
     "output_type": "stream",
     "text": [
      "Исходный размер: высота - 1095, ширина - 736\n",
      "Измененный размер: высота - 547, ширина - 368\n"
     ]
    }
   ],
   "source": [
    "# Task 4\n",
    "from PIL import Image\n",
    "from pathlib import Path\n",
    "\n",
    "filename = input(\"Введите путь до вашего файла: \")\n",
    "with Image.open(filename, 'r') as img:\n",
    "    file_format, orig_filename = img.format, Path(filename).stem\n",
    "    img.load()\n",
    "    width, height = img.size\n",
    "    img = img.resize((int(width/2), int(height/2)))\n",
    "    img.save(f\"{orig_filename}_new.{file_format.lower()}\")\n",
    "    print(f'''Исходный размер: высота - {height}, ширина - {width}\n",
    "Измененный размер: высота - {int(height/2)}, ширина - {int(width/2)}''')"
   ]
  }
 ],
 "metadata": {
  "kernelspec": {
   "display_name": "Python 3 (ipykernel)",
   "language": "python",
   "name": "python3"
  },
  "language_info": {
   "codemirror_mode": {
    "name": "ipython",
    "version": 3
   },
   "file_extension": ".py",
   "mimetype": "text/x-python",
   "name": "python",
   "nbconvert_exporter": "python",
   "pygments_lexer": "ipython3",
   "version": "3.12.4"
  }
 },
 "nbformat": 4,
 "nbformat_minor": 5
}
