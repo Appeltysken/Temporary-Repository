{
 "cells": [
  {
   "cell_type": "code",
   "execution_count": 57,
   "id": "317b56b3-ff4d-4c8b-be6c-066ac448c3dc",
   "metadata": {},
   "outputs": [
    {
     "name": "stdout",
     "output_type": "stream",
     "text": [
      "Введите левую границу числового диапозона : 1\n",
      "Введите правую границу числового диапозона : 9\n"
     ]
    },
    {
     "name": "stdout",
     "output_type": "stream",
     "text": [
      "[2, 4, 6, 8]\n"
     ]
    }
   ],
   "source": [
    "# Task 1\n",
    "left_count, right_count, bag = int(input(\"Введите левую границу числового диапозона :\")), int(input(\"Введите правую границу числового диапозона :\")), []\n",
    "\n",
    "if left_count < right_count:\n",
    "    for i in range(left_count, right_count+1):\n",
    "        if i%2 == 0:\n",
    "            bag.append(i)\n",
    "    print(bag)\n",
    "else:\n",
    "    print(\"Что-то пошло не так.\")"
   ]
  },
  {
   "cell_type": "code",
   "execution_count": 62,
   "id": "4248e0d4-58ad-42ba-a67f-6246a731aec9",
   "metadata": {},
   "outputs": [
    {
     "name": "stdout",
     "output_type": "stream",
     "text": [
      "Введите ваше слово : race car\n"
     ]
    },
    {
     "name": "stdout",
     "output_type": "stream",
     "text": [
      "Это палиндром\n"
     ]
    }
   ],
   "source": [
    "# Task 2\n",
    "string = input(\"Введите ваше слово :\").lower().replace(\" \", \"\")\n",
    "print(\"Это палиндром\") if string[::-1]==string else print (\"Это не палиндром\")"
   ]
  },
  {
   "cell_type": "code",
   "execution_count": 131,
   "id": "512a270e-beb5-4158-b6f8-df02545c4e7c",
   "metadata": {},
   "outputs": [
    {
     "name": "stdout",
     "output_type": "stream",
     "text": [
      "Введите количество чисел в списке :  2\n",
      ">> 1\n",
      ">> 2\n"
     ]
    },
    {
     "name": "stdout",
     "output_type": "stream",
     "text": [
      "[1, 2]\n",
      "3\n",
      "2\n",
      "1.5\n"
     ]
    }
   ],
   "source": [
    "# Task 3\n",
    "n, list_of_nums = int(input(\"Введите количество чисел в списке : \")), []\n",
    "[list_of_nums.append(int(input(\">>\"))) for i in range (n)]\n",
    "print(list_of_nums)\n",
    "\n",
    "def base(x):\n",
    "    def summer(x):\n",
    "        return sum(x)\n",
    "    print(summer(x))\n",
    "    \n",
    "    def producter(x):\n",
    "        prod = 0\n",
    "        for i in range(len(x)-1):\n",
    "            prod +=  x[i]*x[i+1]\n",
    "        return prod\n",
    "    print(producter(x))\n",
    "        \n",
    "    def arifm(x):\n",
    "        return summer(x)/len(x)\n",
    "    print(arifm(x))\n",
    "              \n",
    "base(list_of_nums)"
   ]
  },
  {
   "cell_type": "code",
   "execution_count": 138,
   "id": "c49828e0-09d8-44e9-93bd-fd3e68f95ad9",
   "metadata": {},
   "outputs": [
    {
     "name": "stdout",
     "output_type": "stream",
     "text": [
      " 28851538\n",
      " 1183019\n"
     ]
    },
    {
     "name": "stdout",
     "output_type": "stream",
     "text": [
      "28851538 1183019\n",
      "17657\n"
     ]
    }
   ],
   "source": [
    "# Task 4\n",
    "\n",
    "a, b = int(input()), int(input())\n",
    "\n",
    "def NOD(a, b):\n",
    "    print(a, b)\n",
    "    while True:\n",
    "        if a % b != 0:\n",
    "            a, b = b, a % b\n",
    "        elif a % b == 1:\n",
    "            return(b)\n",
    "            \n",
    "        else:\n",
    "            return(b)\n",
    "\n",
    "print(NOD(a, b))"
   ]
  }
 ],
 "metadata": {
  "kernelspec": {
   "display_name": "Python 3 (ipykernel)",
   "language": "python",
   "name": "python3"
  },
  "language_info": {
   "codemirror_mode": {
    "name": "ipython",
    "version": 3
   },
   "file_extension": ".py",
   "mimetype": "text/x-python",
   "name": "python",
   "nbconvert_exporter": "python",
   "pygments_lexer": "ipython3",
   "version": "3.12.4"
  }
 },
 "nbformat": 4,
 "nbformat_minor": 5
}
