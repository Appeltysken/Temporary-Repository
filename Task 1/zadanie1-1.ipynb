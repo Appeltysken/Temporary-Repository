{
 "cells": [
  {
   "cell_type": "code",
   "execution_count": 5,
   "id": "dcf1e97f-1d19-490a-822b-9e4f96c9f167",
   "metadata": {},
   "outputs": [
    {
     "name": "stdin",
     "output_type": "stream",
     "text": [
      "Как вас зовут? Дмитрий\n",
      "Ваш возраст? 20\n",
      "Какой у вас любимый цвет? Оранжевый\n"
     ]
    },
    {
     "name": "stdout",
     "output_type": "stream",
     "text": [
      "Вас зовут - Дмитрий. Ваш возраст - 20. Ваш любимый цвет - Оранжевый.\n"
     ]
    }
   ],
   "source": [
    "# Task 1\n",
    "name, age, color = input(\"Как вас зовут?\"), input(\"Ваш возраст?\"), input(\"Какой у вас любимый цвет?\")\n",
    "print(f\"Вас зовут - {name}. Ваш возраст - {age}. Ваш любимый цвет - {color}.\")"
   ]
  },
  {
   "cell_type": "code",
   "execution_count": 21,
   "id": "e4e5541f-b519-4a56-836d-ae4b98260ba4",
   "metadata": {},
   "outputs": [
    {
     "name": "stdin",
     "output_type": "stream",
     "text": [
      "Введите n-ое число для послед. Фибоначчи:  5\n"
     ]
    },
    {
     "name": "stdout",
     "output_type": "stream",
     "text": [
      "[1, 1, 2, 3, 5]\n"
     ]
    }
   ],
   "source": [
    "# Task 2\n",
    "fib, k, n = [1, 1], 0, int(input(\"Введите n-ое число для послед. Фибоначчи: \"))\n",
    "for i in range(n):\n",
    "    fib.append(fib[k]+fib[k+1])\n",
    "    k+=1\n",
    "print(fib[:n])"
   ]
  },
  {
   "cell_type": "code",
   "execution_count": 34,
   "id": "84278fe5-6708-49dd-9cba-38c45ee0d3da",
   "metadata": {},
   "outputs": [
    {
     "name": "stdin",
     "output_type": "stream",
     "text": [
      ">> 2+7\n"
     ]
    },
    {
     "name": "stdout",
     "output_type": "stream",
     "text": [
      "9\n"
     ]
    },
    {
     "name": "stdin",
     "output_type": "stream",
     "text": [
      ">> 2-7\n"
     ]
    },
    {
     "name": "stdout",
     "output_type": "stream",
     "text": [
      "-5\n"
     ]
    },
    {
     "name": "stdin",
     "output_type": "stream",
     "text": [
      ">> 2/7\n"
     ]
    },
    {
     "name": "stdout",
     "output_type": "stream",
     "text": [
      "0.2857142857142857\n"
     ]
    },
    {
     "name": "stdin",
     "output_type": "stream",
     "text": [
      ">> 2*7\n"
     ]
    },
    {
     "name": "stdout",
     "output_type": "stream",
     "text": [
      "14\n"
     ]
    },
    {
     "name": "stdin",
     "output_type": "stream",
     "text": [
      ">> aaaa\n"
     ]
    },
    {
     "name": "stdout",
     "output_type": "stream",
     "text": [
      "Некорректная команда.\n"
     ]
    },
    {
     "name": "stdin",
     "output_type": "stream",
     "text": [
      ">> break\n"
     ]
    }
   ],
   "source": [
    "# Task 3\n",
    "while True:\n",
    "    task = input(\">>\")\n",
    "    \n",
    "    if task.split(\"+\") and len(task.split(\"+\"))==2:\n",
    "        task = task.split(\"+\")\n",
    "        print(int(task[0]) + int(task[1]))\n",
    "        \n",
    "    elif task.split(\"-\") and len(task.split(\"-\"))==2:\n",
    "        task = task.split(\"-\")\n",
    "        print(int(task[0]) - int(task[1]))\n",
    "                \n",
    "    elif task.split(\"/\") and len(task.split(\"/\"))==2:\n",
    "        task = task.split(\"/\")\n",
    "        print(int(task[0]) / int(task[1]))\n",
    "\n",
    "    elif task.split(\"*\") and len(task.split(\"*\"))==2:\n",
    "        task = task.split(\"*\")\n",
    "        print(int(task[0]) * int(task[1]))\n",
    "        \n",
    "    elif task == \"break\":\n",
    "        break\n",
    "        \n",
    "    else:\n",
    "        print(\"Некорректная команда.\")"
   ]
  },
  {
   "cell_type": "code",
   "execution_count": 50,
   "id": "c29e40fa-6328-4cc0-b3b9-21b6f49888c5",
   "metadata": {},
   "outputs": [
    {
     "name": "stdin",
     "output_type": "stream",
     "text": [
      "Введите знак заданной темп. 'C' - Цельсия | 'F' - Фаренгейт : F\n",
      "И само значение температуры : 68\n"
     ]
    },
    {
     "name": "stdout",
     "output_type": "stream",
     "text": [
      "68 °F равняется 20.0 °C\n"
     ]
    }
   ],
   "source": [
    "# Task 4\n",
    "temp, temp_num = input(\"Введите знак заданной темп. 'C' - Цельсия | 'F' - Фаренгейт :\"), int(input(\"И само значение температуры :\"))\n",
    "if temp == \"C\":\n",
    "    print(f\"{temp_num} °C равняется \" + str(temp_num * 9/5 + 32) + \" °F\")\n",
    "    \n",
    "elif temp == \"F\":\n",
    "    print(f\"{temp_num} °F равняется \" + str((temp_num - 32) * 5/9) + \" °C\")\n",
    "    \n",
    "else:\n",
    "    print(\"Введен непонятный символ.\")"
   ]
  },
  {
   "cell_type": "code",
   "execution_count": null,
   "id": "c860facd-1521-422e-9c5b-3cc193067426",
   "metadata": {},
   "outputs": [],
   "source": []
  }
 ],
 "metadata": {
  "kernelspec": {
   "display_name": "Python 3 (ipykernel)",
   "language": "python",
   "name": "python3"
  },
  "language_info": {
   "codemirror_mode": {
    "name": "ipython",
    "version": 3
   },
   "file_extension": ".py",
   "mimetype": "text/x-python",
   "name": "python",
   "nbconvert_exporter": "python",
   "pygments_lexer": "ipython3",
   "version": "3.12.4"
  }
 },
 "nbformat": 4,
 "nbformat_minor": 5
}
