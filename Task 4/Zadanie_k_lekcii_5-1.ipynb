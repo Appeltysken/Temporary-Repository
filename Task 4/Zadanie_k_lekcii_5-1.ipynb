{
  "nbformat": 4,
  "nbformat_minor": 0,
  "metadata": {
    "colab": {
      "provenance": [],
      "gpuType": "T4"
    },
    "kernelspec": {
      "name": "python3",
      "display_name": "Python 3"
    },
    "language_info": {
      "name": "python"
    },
    "accelerator": "GPU"
  },
  "cells": [
    {
      "cell_type": "code",
      "execution_count": 6,
      "metadata": {
        "colab": {
          "base_uri": "https://localhost:8080/"
        },
        "id": "ZHHC1YR9ViJO",
        "outputId": "ffd4a037-b4c9-42b3-f068-c005f40ef588"
      },
      "outputs": [
        {
          "output_type": "stream",
          "name": "stdout",
          "text": [
            "Огурец: 7805.20 рублей\n",
            "Апельсин: 11317.37 рублей\n",
            "Яблоко: 15692.81 рублей\n",
            "Банан: 15155.92 рублей\n",
            "Помидор: 5781.84 рублей\n"
          ]
        }
      ],
      "source": [
        "# Задание 1: Работа с форматами данных\n",
        "import csv\n",
        "import random\n",
        "import os\n",
        "\n",
        "def generate_test_data(filename=\"data.csv\", num_rows=100):\n",
        "    products = [\"Яблоко\", \"Банан\", \"Апельсин\", \"Помидор\", \"Огурец\"]\n",
        "    with open(filename, mode=\"w\", newline=\"\", encoding=\"utf-8\") as file:\n",
        "        writer = csv.writer(file)\n",
        "        writer.writerow([\"Sale_ID\", \"Date\", \"Product\", \"Quantity\", \"Price_per_unit\"])\n",
        "        for i in range(1, num_rows + 1):\n",
        "            writer.writerow([\n",
        "                i,\n",
        "                f\"2025-02-{random.randint(1, 28)}\",\n",
        "                random.choice(products),\n",
        "                random.randint(1, 10),\n",
        "                round(random.uniform(40.0, 150.0), 2)\n",
        "            ])\n",
        "\n",
        "def calculate_total_revenue(filename=\"data.csv\"):\n",
        "    revenue = {}\n",
        "\n",
        "    with open(filename, mode=\"r\", encoding=\"utf-8\") as file:\n",
        "        reader = csv.DictReader(file)\n",
        "        for row in reader:\n",
        "            product = row[\"Product\"]\n",
        "            quantity = int(row[\"Quantity\"])\n",
        "            price_per_unit = float(row[\"Price_per_unit\"])\n",
        "\n",
        "            if product not in revenue:\n",
        "                revenue[product] = 0\n",
        "\n",
        "            revenue[product] += quantity * price_per_unit\n",
        "\n",
        "    return revenue\n",
        "\n",
        "generate_test_data()\n",
        "total_revenue = calculate_total_revenue()\n",
        "\n",
        "for product, revenue in total_revenue.items():\n",
        "    print(f\"{product}: {revenue:.2f} рублей\")"
      ]
    },
    {
      "cell_type": "code",
      "source": [
        "# Задание 2: Работа с форматами данных\n",
        "import csv\n",
        "import json\n",
        "import random\n",
        "import os\n",
        "\n",
        "def generate_test_data(filename=\"data.csv\", num_rows=100):\n",
        "    products = [\"Яблоко\", \"Банан\", \"Апельсин\", \"Помидор\", \"Огурец\"]\n",
        "    with open(filename, mode=\"w\", newline=\"\", encoding=\"utf-8\") as file:\n",
        "        writer = csv.writer(file)\n",
        "        writer.writerow([\"Sale_ID\", \"Date\", \"Product\", \"Quantity\", \"Price_per_unit\"])\n",
        "        for i in range(1, num_rows + 1):\n",
        "            writer.writerow([\n",
        "                i,\n",
        "                f\"2025-02-{random.randint(1, 28)}\",\n",
        "                random.choice(products),\n",
        "                random.randint(1, 10),\n",
        "                round(random.uniform(40.0, 150.0), 2)\n",
        "            ])\n",
        "\n",
        "def calculate_total_revenue(filename=\"data.csv\"):\n",
        "    revenue = {}\n",
        "\n",
        "    with open(filename, mode=\"r\", encoding=\"utf-8\") as file:\n",
        "        reader = csv.DictReader(file)\n",
        "        for row in reader:\n",
        "            product = row[\"Product\"]\n",
        "            quantity = int(row[\"Quantity\"])\n",
        "            price_per_unit = float(row[\"Price_per_unit\"])\n",
        "\n",
        "            if product not in revenue:\n",
        "                revenue[product] = 0\n",
        "\n",
        "            revenue[product] += quantity * price_per_unit\n",
        "\n",
        "    return revenue\n",
        "\n",
        "def convert_csv_to_json(csv_filename=\"data.csv\", json_filename=\"data.json\"):\n",
        "    data = []\n",
        "    with open(csv_filename, mode=\"r\", encoding=\"utf-8\") as file:\n",
        "        reader = csv.DictReader(file)\n",
        "        for row in reader:\n",
        "            data.append(row)\n",
        "\n",
        "    with open(json_filename, mode=\"w\", encoding=\"utf-8\") as json_file:\n",
        "        json.dump(data, json_file, ensure_ascii=False, indent=4)\n",
        "\n",
        "generate_test_data()\n",
        "total_revenue = calculate_total_revenue()\n",
        "convert_csv_to_json()\n",
        "\n",
        "for product, revenue in total_revenue.items():\n",
        "    print(f\"{product}: {revenue:.2f} рублей\")"
      ],
      "metadata": {
        "colab": {
          "base_uri": "https://localhost:8080/"
        },
        "id": "tiPeSYwtV7h8",
        "outputId": "92c3585b-8476-4a87-c8fc-3836f0ec15e0"
      },
      "execution_count": 7,
      "outputs": [
        {
          "output_type": "stream",
          "name": "stdout",
          "text": [
            "Помидор: 15560.84 рублей\n",
            "Яблоко: 10162.64 рублей\n",
            "Огурец: 9371.51 рублей\n",
            "Апельсин: 6623.84 рублей\n",
            "Банан: 13493.44 рублей\n"
          ]
        }
      ]
    },
    {
      "cell_type": "code",
      "source": [
        "# Задание 3. Сетевые запросы\n",
        "import requests\n",
        "\n",
        "COUNT = 10\n",
        "\n",
        "def fetch_posts():\n",
        "    url = \"https://jsonplaceholder.typicode.com/posts\"\n",
        "\n",
        "    with requests.Session() as session:\n",
        "        response = session.get(url)\n",
        "\n",
        "        if response.status_code == 200:\n",
        "            posts = response.json()\n",
        "            return posts\n",
        "        else:\n",
        "            print(f\"Ошибка при запросе: {response.status_code}\")\n",
        "            return []\n",
        "\n",
        "if __name__ == \"__main__\":\n",
        "    posts = fetch_posts()\n",
        "\n",
        "    for post in posts[:COUNT]:\n",
        "        print(f\"Первые {COUNT} запросов:\\nID: {post['id']}, Title: {post['title']}\")"
      ],
      "metadata": {
        "colab": {
          "base_uri": "https://localhost:8080/"
        },
        "id": "z5lGmqVPV7RS",
        "outputId": "0c808bcf-c8f8-45e7-d566-57a1c15ad435"
      },
      "execution_count": 11,
      "outputs": [
        {
          "output_type": "stream",
          "name": "stdout",
          "text": [
            "Первые 10 запросов:\n",
            "ID: 1, Title: sunt aut facere repellat provident occaecati excepturi optio reprehenderit\n",
            "Первые 10 запросов:\n",
            "ID: 2, Title: qui est esse\n",
            "Первые 10 запросов:\n",
            "ID: 3, Title: ea molestias quasi exercitationem repellat qui ipsa sit aut\n",
            "Первые 10 запросов:\n",
            "ID: 4, Title: eum et est occaecati\n",
            "Первые 10 запросов:\n",
            "ID: 5, Title: nesciunt quas odio\n",
            "Первые 10 запросов:\n",
            "ID: 6, Title: dolorem eum magni eos aperiam quia\n",
            "Первые 10 запросов:\n",
            "ID: 7, Title: magnam facilis autem\n",
            "Первые 10 запросов:\n",
            "ID: 8, Title: dolorem dolore est ipsam\n",
            "Первые 10 запросов:\n",
            "ID: 9, Title: nesciunt iure omnis dolorem tempora et accusantium\n",
            "Первые 10 запросов:\n",
            "ID: 10, Title: optio molestias id quia eum\n"
          ]
        }
      ]
    },
    {
      "cell_type": "code",
      "source": [
        "# Задание 4. Сетевые запросы\n",
        "import requests\n",
        "\n",
        "def fetch_data(url):\n",
        "    with requests.Session() as session:\n",
        "        response = session.get(url)\n",
        "        return response.json() if response.status_code == 200 else []\n",
        "\n",
        "def find_post_with_most_comments():\n",
        "    posts = fetch_data(\"https://jsonplaceholder.typicode.com/posts\")\n",
        "    comments = fetch_data(\"https://jsonplaceholder.typicode.com/comments\")\n",
        "\n",
        "    comment_count = {}\n",
        "    for comment in comments:\n",
        "        comment_count[comment[\"postId\"]] = comment_count.get(comment[\"postId\"], 0) + 1\n",
        "\n",
        "    max_post_id = max(comment_count, key=comment_count.get, default=None)\n",
        "    post_title = next((post[\"title\"] for post in posts if post[\"id\"] == max_post_id), \"Не найдено\")\n",
        "\n",
        "    return max_post_id, post_title, comment_count.get(max_post_id, 0)\n",
        "\n",
        "if __name__ == \"__main__\":\n",
        "    post_id, title, comments = find_post_with_most_comments()\n",
        "    print(f\"Пост с ID {post_id} (\\\"{title}\\\") имеет максимальное\\nколичество комментариев: {comments}.\")\n",
        "\n",
        "# Выводится первый в очередности пост с максимальным числом (5), но стоит учитывать, что там есть и другие посты\n",
        "# у которых эквивалетное количество комментариев.\n"
      ],
      "metadata": {
        "id": "5RfUMLK6gJVz",
        "colab": {
          "base_uri": "https://localhost:8080/"
        },
        "outputId": "dc5d6521-ddad-4066-e4d4-a6cc3ff14490"
      },
      "execution_count": 17,
      "outputs": [
        {
          "output_type": "stream",
          "name": "stdout",
          "text": [
            "Пост с ID 1 (\"sunt aut facere repellat provident occaecati excepturi optio reprehenderit\") имеет максимальное\n",
            "количество комментариев: 5.\n"
          ]
        }
      ]
    }
  ]
}